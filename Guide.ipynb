{
 "cells": [
  {
   "cell_type": "markdown",
   "metadata": {},
   "source": [
    "# Learning PyMatgen, Atomate, Fireworks and VASP: Welcome Guide"
   ]
  },
  {
   "cell_type": "markdown",
   "metadata": {},
   "source": [
    "###### Guide by Martin Siron, some code adapted from John Dagdelen"
   ]
  },
  {
   "cell_type": "markdown",
   "metadata": {},
   "source": [
    "### Let's make a material: ZnTe"
   ]
  },
  {
   "cell_type": "markdown",
   "metadata": {},
   "source": [
    "Lets start with the import we might need"
   ]
  },
  {
   "cell_type": "code",
   "execution_count": 1,
   "metadata": {},
   "outputs": [],
   "source": [
    "from pymatgen import Structure, MPRester, Lattice, Structure\n",
    "from pymatgen.symmetry.analyzer import SpacegroupAnalyzer"
   ]
  },
  {
   "cell_type": "markdown",
   "metadata": {},
   "source": [
    "We can get a material from the Materials Project Database such as ZnTe:"
   ]
  },
  {
   "cell_type": "code",
   "execution_count": 2,
   "metadata": {},
   "outputs": [],
   "source": [
    "mpr=MPRester()\n",
    "znte_mp = SpacegroupAnalyzer(mpr.get_structure_by_material_id(\"mp-2176\")).get_conventional_standard_structure()"
   ]
  },
  {
   "cell_type": "markdown",
   "metadata": {},
   "source": [
    "We can print out this structure to see what it looks like:"
   ]
  },
  {
   "cell_type": "code",
   "execution_count": 3,
   "metadata": {},
   "outputs": [
    {
     "data": {
      "text/plain": [
       "Structure Summary\n",
       "Lattice\n",
       "    abc : 6.184826420366441 6.184826420366441 6.184826420366441\n",
       " angles : 90.0 90.0 90.0\n",
       " volume : 236.58246172098217\n",
       "      A : 6.184826420366441 0.0 3.787113939491872e-16\n",
       "      B : 9.94595945090975e-16 6.184826420366441 3.787113939491872e-16\n",
       "      C : 0.0 0.0 6.184826420366441\n",
       "PeriodicSite: Zn (0.0000, 0.0000, 0.0000) [0.0000, 0.0000, 0.0000]\n",
       "PeriodicSite: Zn (0.0000, 3.0924, 3.0924) [0.0000, 0.5000, 0.5000]\n",
       "PeriodicSite: Zn (3.0924, 0.0000, 3.0924) [0.5000, 0.0000, 0.5000]\n",
       "PeriodicSite: Zn (3.0924, 3.0924, 0.0000) [0.5000, 0.5000, 0.0000]\n",
       "PeriodicSite: Te (4.6386, 4.6386, 4.6386) [0.7500, 0.7500, 0.7500]\n",
       "PeriodicSite: Te (4.6386, 1.5462, 1.5462) [0.7500, 0.2500, 0.2500]\n",
       "PeriodicSite: Te (1.5462, 4.6386, 1.5462) [0.2500, 0.7500, 0.2500]\n",
       "PeriodicSite: Te (1.5462, 1.5462, 4.6386) [0.2500, 0.2500, 0.7500]"
      ]
     },
     "execution_count": 3,
     "metadata": {},
     "output_type": "execute_result"
    }
   ],
   "source": [
    "znte_mp"
   ]
  },
  {
   "cell_type": "markdown",
   "metadata": {},
   "source": [
    "We can also create the same structure manually"
   ]
  },
  {
   "cell_type": "code",
   "execution_count": 4,
   "metadata": {},
   "outputs": [],
   "source": [
    "znte_lattice = Lattice.cubic(6.184826420366441)\n",
    "species = [\"Zn\", \"Zn\",\"Zn\",\"Zn\",\"Te\",\"Te\",\"Te\",\"Te\"]\n",
    "coordinates = [[0,0,0], [0,0.5,0.5],[0.5,0,0.5],\n",
    "               [0.5,0.5,0],[.75,.75,.75],[.75,.25,.25],\n",
    "               [0.25,0.75,0.25],[0.25,0.25,0.75]]\n",
    "znte = Structure(znte_lattice,species=species,coords=coordinates)"
   ]
  },
  {
   "cell_type": "code",
   "execution_count": 5,
   "metadata": {},
   "outputs": [
    {
     "data": {
      "text/plain": [
       "Structure Summary\n",
       "Lattice\n",
       "    abc : 6.184826420366441 6.184826420366441 6.184826420366441\n",
       " angles : 90.0 90.0 90.0\n",
       " volume : 236.58246172098217\n",
       "      A : 6.184826420366441 0.0 0.0\n",
       "      B : 0.0 6.184826420366441 0.0\n",
       "      C : 0.0 0.0 6.184826420366441\n",
       "PeriodicSite: Zn (0.0000, 0.0000, 0.0000) [0.0000, 0.0000, 0.0000]\n",
       "PeriodicSite: Zn (0.0000, 3.0924, 3.0924) [0.0000, 0.5000, 0.5000]\n",
       "PeriodicSite: Zn (3.0924, 0.0000, 3.0924) [0.5000, 0.0000, 0.5000]\n",
       "PeriodicSite: Zn (3.0924, 3.0924, 0.0000) [0.5000, 0.5000, 0.0000]\n",
       "PeriodicSite: Te (4.6386, 4.6386, 4.6386) [0.7500, 0.7500, 0.7500]\n",
       "PeriodicSite: Te (4.6386, 1.5462, 1.5462) [0.7500, 0.2500, 0.2500]\n",
       "PeriodicSite: Te (1.5462, 4.6386, 1.5462) [0.2500, 0.7500, 0.2500]\n",
       "PeriodicSite: Te (1.5462, 1.5462, 4.6386) [0.2500, 0.2500, 0.7500]"
      ]
     },
     "execution_count": 5,
     "metadata": {},
     "output_type": "execute_result"
    }
   ],
   "source": [
    "znte"
   ]
  },
  {
   "cell_type": "markdown",
   "metadata": {},
   "source": [
    "We have a structure now, that is all we need for a quick VASP calculation to determine if this stucture is stable"
   ]
  },
  {
   "cell_type": "markdown",
   "metadata": {},
   "source": [
    "### Ex1: Lets do our first VASP!"
   ]
  },
  {
   "cell_type": "markdown",
   "metadata": {},
   "source": [
    "For VASP to run we need to provide 4 input files:\n",
    "- POSCAR: this is the structure file\n",
    "- INCAR: this is the parameter of the calculation\n",
    "- POTCAR: this is the details about the potentials/elements to calculated the various forces\n",
    "- KPOINTS: this is the mesh needed to figure out how detailed your calculations might need to be"
   ]
  },
  {
   "cell_type": "markdown",
   "metadata": {},
   "source": [
    "Let's start by using PyMatgen to make a POSCAR from our structure"
   ]
  },
  {
   "cell_type": "code",
   "execution_count": 6,
   "metadata": {},
   "outputs": [],
   "source": [
    "from pymatgen.io.vasp.inputs import Kpoints, Poscar, Potcar, Incar\n",
    "POSCAR = Poscar(znte)"
   ]
  },
  {
   "cell_type": "markdown",
   "metadata": {},
   "source": [
    "Now lets make our KPOINTS. This defined how detailed we want the mesh"
   ]
  },
  {
   "cell_type": "code",
   "execution_count": 7,
   "metadata": {},
   "outputs": [],
   "source": [
    "grid = (6,6,6)\n",
    "KPOINTS = Kpoints.monkhorst_automatic(kpts=grid)"
   ]
  },
  {
   "cell_type": "markdown",
   "metadata": {},
   "source": [
    "Now let's set our basic INCAR parameters:"
   ]
  },
  {
   "cell_type": "code",
   "execution_count": 8,
   "metadata": {},
   "outputs": [],
   "source": [
    "incar_params = {\"EDIFF\" : 0.0004, #this sets the tolerance between steps before stoping the simulation\n",
    "                \"EDIFFG\" : -0.01, #this sets the tolerance between steps before stoping the simulation\n",
    "                \"ENCUT\" : 350, #the maximum energy of a planewave considered in a calculation\n",
    "                \"IBRION\" : 1, #IBRION = 1 if we know this structure is close to the stable structure\n",
    "                \"ISIF\" : 3, #ISIF = 3: allow for complete structure optimization\n",
    "                \"ISMEAR\" : 0, #what kind of smearing; 0=Gaussian\n",
    "                \"SIGMA\" : 0.2, #width of smearing\n",
    "                \"NSW\" : 15, #max # of ionic steps between iterations, more leads to more accuracy but longer time\n",
    "                \"NBANDS\" : 8, #number of e- bands to consider in calculation, for large supercell, leave this blank\n",
    "                \"LREAL\" : \"False\"} #for large super cell, set to \"AUTO\", whether or not to use real/reciprocal projections"
   ]
  },
  {
   "cell_type": "code",
   "execution_count": 9,
   "metadata": {},
   "outputs": [],
   "source": [
    "INCAR = Incar.from_dict(incar_params)"
   ]
  },
  {
   "cell_type": "markdown",
   "metadata": {},
   "source": [
    "POTCARS are commercially available files from VASP that details the potential for specific elements.\n",
    "You should concatenate all the POTCARs into one file named POTCAR into the same directory..."
   ]
  },
  {
   "cell_type": "markdown",
   "metadata": {},
   "source": [
    "#### Lets write the input files"
   ]
  },
  {
   "cell_type": "code",
   "execution_count": 120,
   "metadata": {},
   "outputs": [],
   "source": [
    "def write_input_set(POSCAR, INCAR, KPOINTS, directory=\"new_input_set\"):\n",
    "    import os\n",
    "    try:\n",
    "        os.mkdir(directory)\n",
    "    except FileExistsError: None\n",
    "    \n",
    "    POSCAR.write_file(\"{}/POSCAR\".format(directory))\n",
    "    INCAR.write_file(\"{}/INCAR\".format(directory))\n",
    "    KPOINTS.write_file(\"{}/KPOINTS\".format(directory))\n",
    "    print(\"Input set written to '{}'\".format(directory))"
   ]
  },
  {
   "cell_type": "code",
   "execution_count": 11,
   "metadata": {},
   "outputs": [
    {
     "name": "stdout",
     "output_type": "stream",
     "text": [
      "Input set written to 'Example01'\n"
     ]
    }
   ],
   "source": [
    "directory = \"Example01\"\n",
    "write_input_set(POSCAR,INCAR, KPOINTS, directory)"
   ]
  },
  {
   "cell_type": "markdown",
   "metadata": {},
   "source": [
    "Now, make sure you have the POTCARs in the directory and you're ready to run VASP in that directory!"
   ]
  },
  {
   "cell_type": "markdown",
   "metadata": {},
   "source": [
    "Once you run that code, its time to check the results. If successful, they should be in an OUTCAR file. I put a sample one in there for the purpose of this demonstation."
   ]
  },
  {
   "cell_type": "code",
   "execution_count": 114,
   "metadata": {},
   "outputs": [
    {
     "data": {
      "text/plain": [
       "-15.55474432"
      ]
     },
     "execution_count": 114,
     "metadata": {},
     "output_type": "execute_result"
    }
   ],
   "source": [
    "from pymatgen.io.vasp.outputs import Outcar\n",
    "OUTCAR = Outcar(\"Example01/OUTCAR\")\n",
    "OUTCAR.final_energy"
   ]
  },
  {
   "cell_type": "markdown",
   "metadata": {},
   "source": [
    "It is standard to normalize this by atoms:"
   ]
  },
  {
   "cell_type": "code",
   "execution_count": 118,
   "metadata": {},
   "outputs": [
    {
     "data": {
      "text/plain": [
       "-1.94434304"
      ]
     },
     "execution_count": 118,
     "metadata": {},
     "output_type": "execute_result"
    }
   ],
   "source": [
    "OUTCAR.final_energy/znte.num_sites"
   ]
  },
  {
   "cell_type": "markdown",
   "metadata": {},
   "source": [
    "### Lets do kpoints and $En_{cut}$ convergence tests"
   ]
  },
  {
   "cell_type": "markdown",
   "metadata": {},
   "source": [
    "Traditionally, we might not know what kpoints and Ecut values to use, so we should do convergence tests!"
   ]
  },
  {
   "cell_type": "code",
   "execution_count": 110,
   "metadata": {},
   "outputs": [],
   "source": [
    "kpoints = range(3,10) #we can start at 3 since 1/2 is def too small."
   ]
  },
  {
   "cell_type": "code",
   "execution_count": 122,
   "metadata": {},
   "outputs": [
    {
     "name": "stdout",
     "output_type": "stream",
     "text": [
      "Input set written to 'Example01/kpoints_conv/kpts_3'\n",
      "Input set written to 'Example01/kpoints_conv/kpts_4'\n",
      "Input set written to 'Example01/kpoints_conv/kpts_5'\n",
      "Input set written to 'Example01/kpoints_conv/kpts_6'\n",
      "Input set written to 'Example01/kpoints_conv/kpts_7'\n",
      "Input set written to 'Example01/kpoints_conv/kpts_8'\n",
      "Input set written to 'Example01/kpoints_conv/kpts_9'\n"
     ]
    }
   ],
   "source": [
    "for k in kpoints:\n",
    "    KPOINTS = Kpoints.monkhorst_automatic(kpts=(k,k,k)) #You might not want a cubic kpoints grid, but since our structure is cubic, this is a good bet\n",
    "    directory = \"Example01/kpoints_conv/kpts_{}\".format(k)\n",
    "    write_input_set(POSCAR,INCAR, KPOINTS, directory) #all our other parameters stay the same."
   ]
  },
  {
   "cell_type": "markdown",
   "metadata": {},
   "source": [
    "For the purpose of this demonstrations I populated the directories with OUTCAR files. Lets look at how our kpoints converge!"
   ]
  },
  {
   "cell_type": "code",
   "execution_count": 123,
   "metadata": {},
   "outputs": [],
   "source": [
    "es_k = []\n",
    "for k in kpoints:\n",
    "    OUTCAR = Outcar(\"Example01/kpoints_conv/kpts_{}/OUTCAR\".format(k))\n",
    "    es_k.append(OUTCAR.final_energy/znte.num_sites)"
   ]
  },
  {
   "cell_type": "code",
   "execution_count": 127,
   "metadata": {},
   "outputs": [
    {
     "data": {
      "image/png": "[encoded data removed]",
      "text/plain": [
       "<Figure size 432x288 with 1 Axes>"
      ]
     },
     "metadata": {
      "needs_background": "light"
     },
     "output_type": "display_data"
    }
   ],
   "source": [
    "import matplotlib.pyplot as plt\n",
    "plt.plot(kpoints,es_k)\n",
    "plt.title(\"Kpoints Convergence\")\n",
    "plt.ylabel(\"Final Energy (eV/atom)\")\n",
    "plt.xlabel(\"kpoints density\")\n",
    "plt.show()"
   ]
  },
  {
   "cell_type": "markdown",
   "metadata": {},
   "source": [
    "Lets look at how our two last energies compare in values:"
   ]
  },
  {
   "cell_type": "code",
   "execution_count": 132,
   "metadata": {},
   "outputs": [
    {
     "data": {
      "text/plain": [
       "8.387624999994792e-05"
      ]
     },
     "execution_count": 132,
     "metadata": {},
     "output_type": "execute_result"
    }
   ],
   "source": [
    "es_k[len(es_k)-1]-es_k[len(es_k)-2]"
   ]
  },
  {
   "cell_type": "markdown",
   "metadata": {},
   "source": [
    "This is pretty good convergence, now do the same for Encut"
   ]
  },
  {
   "cell_type": "code",
   "execution_count": 133,
   "metadata": {},
   "outputs": [],
   "source": [
    "# Your code here"
   ]
  },
  {
   "cell_type": "markdown",
   "metadata": {},
   "source": [
    "### Let's use Atomate, Fireworks to do the same thing!"
   ]
  },
  {
   "cell_type": "code",
   "execution_count": 20,
   "metadata": {},
   "outputs": [],
   "source": [
    "from atomate.vasp.workflows.base import core, library"
   ]
  },
  {
   "cell_type": "code",
   "execution_count": 21,
   "metadata": {},
   "outputs": [],
   "source": [
    "wf = core.get_wf(znte, \"optimize_only.yaml\") "
   ]
  },
  {
   "cell_type": "markdown",
   "metadata": {},
   "source": [
    "This creates a simple workflow object which simply optimizes the structure, same as what our VASP calculation will do"
   ]
  },
  {
   "cell_type": "code",
   "execution_count": 28,
   "metadata": {},
   "outputs": [
    {
     "data": {
      "text/plain": [
       "1"
      ]
     },
     "execution_count": 28,
     "metadata": {},
     "output_type": "execute_result"
    }
   ],
   "source": [
    "len(wf.fws) #We can check how many 'fireworks' are in this workflow:"
   ]
  },
  {
   "cell_type": "code",
   "execution_count": 44,
   "metadata": {},
   "outputs": [
    {
     "data": {
      "text/plain": [
       "4"
      ]
     },
     "execution_count": 44,
     "metadata": {},
     "output_type": "execute_result"
    }
   ],
   "source": [
    "len(wf.fws[0].spec[\"_tasks\"]) #We can check how many tasks are in this firework:"
   ]
  },
  {
   "cell_type": "code",
   "execution_count": 45,
   "metadata": {},
   "outputs": [
    {
     "data": {
      "text/plain": [
       "atomate.vasp.fireworks.core.OptimizeFW"
      ]
     },
     "execution_count": 45,
     "metadata": {},
     "output_type": "execute_result"
    }
   ],
   "source": [
    "type(wf.fws[0]) #We can also check what kind of object this Firetask is:"
   ]
  },
  {
   "cell_type": "markdown",
   "metadata": {},
   "source": [
    "Looks like there are 4 tasks in this OptimizeFW object, lets see if we can identify what they are!"
   ]
  },
  {
   "cell_type": "code",
   "execution_count": 86,
   "metadata": {},
   "outputs": [
    {
     "name": "stdout",
     "output_type": "stream",
     "text": [
      "<class 'atomate.vasp.firetasks.write_inputs.WriteVaspFromIOSet'>\n",
      "<class 'atomate.vasp.firetasks.run_calc.RunVaspCustodian'>\n",
      "<class 'atomate.common.firetasks.glue_tasks.PassCalcLocs'>\n",
      "<class 'atomate.vasp.firetasks.parse_outputs.VaspToDb'>\n"
     ]
    }
   ],
   "source": [
    "for task in wf.fws[0].tasks:\n",
    "    print(task.__class__)"
   ]
  },
  {
   "cell_type": "markdown",
   "metadata": {},
   "source": [
    "From this we can see what is happening behind the scene in this FireTask. First the VASP files are written.\n",
    "Second, VASP is run. Third, some parameters are looked up, and last, these parameters are written to the Mongo DB"
   ]
  },
  {
   "cell_type": "markdown",
   "metadata": {},
   "source": [
    "Lets look in depth in the first task and see if we can write the VASP files out locally to compare to the VASP files from previous calculations"
   ]
  },
  {
   "cell_type": "code",
   "execution_count": 98,
   "metadata": {},
   "outputs": [
    {
     "data": {
      "text/plain": [
       "MPRelaxSet"
      ]
     },
     "execution_count": 98,
     "metadata": {},
     "output_type": "execute_result"
    }
   ],
   "source": [
    "wf.fws[0].tasks[0][\"vasp_input_set\"]"
   ]
  },
  {
   "cell_type": "markdown",
   "metadata": {},
   "source": [
    "We see that the firetask vasp_input_set is the MPRelaxSet. This class can be used to locally write the files."
   ]
  },
  {
   "cell_type": "code",
   "execution_count": 99,
   "metadata": {},
   "outputs": [],
   "source": [
    "from pymatgen.io.vasp.sets import MPRelaxSet"
   ]
  },
  {
   "cell_type": "markdown",
   "metadata": {},
   "source": [
    "MPRelaxSet takes a structure"
   ]
  },
  {
   "cell_type": "code",
   "execution_count": 101,
   "metadata": {},
   "outputs": [
    {
     "data": {
      "text/plain": [
       "pymatgen.core.structure.Structure"
      ]
     },
     "execution_count": 101,
     "metadata": {},
     "output_type": "execute_result"
    }
   ],
   "source": [
    "type(wf.fws[0].tasks[0][\"structure\"])"
   ]
  },
  {
   "cell_type": "code",
   "execution_count": 103,
   "metadata": {},
   "outputs": [],
   "source": [
    "from atomate.vasp.firetasks.write_inputs import WriteVaspFromIOSet\n",
    "mprs = MPRelaxSet(wf.fws[0].tasks[0][\"structure\"])"
   ]
  },
  {
   "cell_type": "markdown",
   "metadata": {},
   "source": [
    "We can now write this structure locally to a file"
   ]
  },
  {
   "cell_type": "code",
   "execution_count": 104,
   "metadata": {},
   "outputs": [],
   "source": [
    "mprs.write_input(\"Example02\")"
   ]
  },
  {
   "cell_type": "markdown",
   "metadata": {},
   "source": [
    "Note, that I deleted the POTCAR file for proprietary reason, lets start to look into the various files"
   ]
  },
  {
   "cell_type": "code",
   "execution_count": 106,
   "metadata": {},
   "outputs": [],
   "source": [
    "incar2 = Incar.from_file(\"Example02/INCAR\")"
   ]
  },
  {
   "cell_type": "code",
   "execution_count": 107,
   "metadata": {},
   "outputs": [
    {
     "data": {
      "text/plain": [
       "{'ALGO': 'Fast',\n",
       " 'EDIFF': 0.0004,\n",
       " 'ENCUT': 520,\n",
       " 'IBRION': 2,\n",
       " 'ICHARG': 1,\n",
       " 'ISIF': 3,\n",
       " 'ISMEAR': -5,\n",
       " 'ISPIN': 2,\n",
       " 'LORBIT': 11,\n",
       " 'LREAL': 'Auto',\n",
       " 'LWAVE': False,\n",
       " 'MAGMOM': [0.6, 0.6, 0.6, 0.6, 0.6, 0.6, 0.6, 0.6],\n",
       " 'NELM': 100,\n",
       " 'NSW': 99,\n",
       " 'PREC': 'Accurate',\n",
       " 'SIGMA': 0.05,\n",
       " '@module': 'pymatgen.io.vasp.inputs',\n",
       " '@class': 'Incar'}"
      ]
     },
     "execution_count": 107,
     "metadata": {},
     "output_type": "execute_result"
    }
   ],
   "source": [
    "incar2.as_dict()"
   ]
  },
  {
   "cell_type": "markdown",
   "metadata": {},
   "source": [
    "From this we can see our EDIFF, was about the only thing that was the same. Perhaps start to delve into what some of these values mean from this website: https://cms.mpi.univie.ac.at/wiki/index.php/Category:INCAR"
   ]
  },
  {
   "cell_type": "markdown",
   "metadata": {},
   "source": [
    "Lets look at the KPOINTS file:"
   ]
  },
  {
   "cell_type": "code",
   "execution_count": 108,
   "metadata": {},
   "outputs": [],
   "source": [
    "kpoints2 = Kpoints.from_file(\"Example02/KPOINTS\")"
   ]
  },
  {
   "cell_type": "code",
   "execution_count": 204,
   "metadata": {},
   "outputs": [
    {
     "data": {
      "text/plain": [
       "{'comment': 'Automatic kpoint scheme',\n",
       " 'nkpoints': 0,\n",
       " 'generation_style': 'Monkhorst',\n",
       " 'kpoints': [[4, 4, 4]],\n",
       " 'usershift': (0, 0, 0),\n",
       " 'kpts_weights': None,\n",
       " 'coord_type': None,\n",
       " 'labels': None,\n",
       " 'tet_number': 0,\n",
       " 'tet_weight': 0,\n",
       " 'tet_connections': None,\n",
       " '@module': 'pymatgen.io.vasp.inputs',\n",
       " '@class': 'Kpoints'}"
      ]
     },
     "execution_count": 204,
     "metadata": {},
     "output_type": "execute_result"
    }
   ],
   "source": [
    "kpoints2.as_dict()"
   ]
  },
  {
   "cell_type": "markdown",
   "metadata": {},
   "source": [
    "Looks like they decided to go for a 4x4x4 grid."
   ]
  },
  {
   "cell_type": "code",
   "execution_count": 171,
   "metadata": {},
   "outputs": [
    {
     "data": {
      "text/plain": [
       "{'INCAR': {'ALGO': 'Fast',\n",
       "  'EDIFF': 0.0004,\n",
       "  'ENCUT': 520,\n",
       "  'IBRION': 2,\n",
       "  'ICHARG': 1,\n",
       "  'ISIF': 3,\n",
       "  'ISMEAR': -5,\n",
       "  'ISPIN': 2,\n",
       "  'LORBIT': 11,\n",
       "  'LREAL': 'Auto',\n",
       "  'LWAVE': False,\n",
       "  'NELM': 100,\n",
       "  'NSW': 99,\n",
       "  'PREC': 'Accurate',\n",
       "  'SIGMA': 0.05,\n",
       "  'MAGMOM': [0.6, 0.6, 0.6, 0.6, 0.6, 0.6, 0.6, 0.6]},\n",
       " 'KPOINTS': pymatgen 4.7.6+ generated KPOINTS with grid density = 537 / atom\n",
       " 0\n",
       " Monkhorst\n",
       " 4 4 4,\n",
       " 'POSCAR': Zn4 Te4\n",
       " 1.0\n",
       " 6.184826 0.000000 0.000000\n",
       " 0.000000 6.184826 0.000000\n",
       " 0.000000 0.000000 6.184826\n",
       " Zn Te\n",
       " 4 4\n",
       " direct\n",
       " 0.000000 0.000000 0.000000 Zn\n",
       " 0.000000 0.500000 0.500000 Zn\n",
       " 0.500000 0.000000 0.500000 Zn\n",
       " 0.500000 0.500000 0.000000 Zn\n",
       " 0.750000 0.750000 0.750000 Te\n",
       " 0.750000 0.250000 0.250000 Te\n",
       " 0.250000 0.750000 0.250000 Te\n",
       " 0.250000 0.250000 0.750000 Te,\n",
       " 'POTCAR': [<pymatgen.io.vasp.inputs.PotcarSingle at 0x2aaadef25e80>,\n",
       "  <pymatgen.io.vasp.inputs.PotcarSingle at 0x2aaadef25b38>]}"
      ]
     },
     "execution_count": 171,
     "metadata": {},
     "output_type": "execute_result"
    }
   ],
   "source": [
    "#We can also look at the input without writing to a file!\n",
    "mprs.get_vasp_input()"
   ]
  },
  {
   "cell_type": "markdown",
   "metadata": {},
   "source": [
    "Lets start to look at what the fireworks might be looking for!"
   ]
  },
  {
   "cell_type": "code",
   "execution_count": 146,
   "metadata": {},
   "outputs": [],
   "source": [
    "task = wf.fws[0].tasks[3]"
   ]
  },
  {
   "cell_type": "code",
   "execution_count": 205,
   "metadata": {},
   "outputs": [
    {
     "data": {
      "text/plain": [
       "{'task_label': 'structure optimization'}"
      ]
     },
     "execution_count": 205,
     "metadata": {},
     "output_type": "execute_result"
    }
   ],
   "source": [
    "task.as_dict()[\"additional_fields\"]"
   ]
  },
  {
   "cell_type": "markdown",
   "metadata": {},
   "source": [
    "Looks like there is no extra arguments to parse, lets see whats always parsed to the DB [NOT SURE IF THIS IS ACCURATE]"
   ]
  },
  {
   "cell_type": "code",
   "execution_count": 210,
   "metadata": {},
   "outputs": [
    {
     "data": {
      "text/plain": [
       "{'bandgap',\n",
       " 'cbm',\n",
       " 'density',\n",
       " 'energy',\n",
       " 'energy_per_atom',\n",
       " 'forces',\n",
       " 'is_gap_direct',\n",
       " 'is_metal',\n",
       " 'spacegroup',\n",
       " 'stress',\n",
       " 'structure',\n",
       " 'vbm'}"
      ]
     },
     "execution_count": 210,
     "metadata": {},
     "output_type": "execute_result"
    }
   ],
   "source": [
    "from atomate.vasp.drones import VaspDrone\n",
    "VaspDrone.schema[\"output\"]"
   ]
  },
  {
   "cell_type": "markdown",
   "metadata": {},
   "source": [
    "### Let's repeat but with a more advanced workflow!"
   ]
  },
  {
   "cell_type": "markdown",
   "metadata": {},
   "source": [
    "This section could really use more help!! please contribute"
   ]
  },
  {
   "cell_type": "code",
   "execution_count": 211,
   "metadata": {},
   "outputs": [
    {
     "data": {
      "text/plain": [
       "atomate.vasp.fireworks.core.OptimizeFW"
      ]
     },
     "execution_count": 211,
     "metadata": {},
     "output_type": "execute_result"
    }
   ],
   "source": [
    "#If you remember:\n",
    "type(wf.fws[0])"
   ]
  },
  {
   "cell_type": "markdown",
   "metadata": {},
   "source": [
    "Instead of recreating a workflow, lets get one directly from the library:"
   ]
  },
  {
   "cell_type": "code",
   "execution_count": 212,
   "metadata": {},
   "outputs": [],
   "source": [
    "from atomate.vasp.fireworks import core"
   ]
  },
  {
   "cell_type": "code",
   "execution_count": 241,
   "metadata": {},
   "outputs": [],
   "source": [
    "fireworks = [x[1] for x in inspect.getmembers(core)]"
   ]
  },
  {
   "cell_type": "code",
   "execution_count": 248,
   "metadata": {},
   "outputs": [
    {
     "name": "stdout",
     "output_type": "stream",
     "text": [
      "<class 'atomate.vasp.fireworks.core.BoltztrapFW'>\n",
      "<class 'atomate.vasp.fireworks.core.DFPTFW'>\n",
      "<class 'atomate.vasp.fireworks.core.HSEBSFW'>\n",
      "<class 'atomate.vasp.fireworks.core.LepsFW'>\n",
      "<class 'atomate.vasp.fireworks.core.MDFW'>\n",
      "<class 'atomate.vasp.fireworks.core.NEBFW'>\n",
      "<class 'atomate.vasp.fireworks.core.NEBRelaxationFW'>\n",
      "<class 'atomate.vasp.fireworks.core.NonSCFFW'>\n",
      "<class 'atomate.vasp.fireworks.core.OptimizeFW'>\n",
      "<class 'atomate.vasp.fireworks.core.RamanFW'>\n",
      "<class 'atomate.vasp.fireworks.core.SOCFW'>\n",
      "<class 'atomate.vasp.fireworks.core.StaticFW'>\n",
      "<class 'atomate.vasp.fireworks.core.StaticInterpolateFW'>\n",
      "<class 'atomate.vasp.fireworks.core.TransmuterFW'>\n"
     ]
    }
   ],
   "source": [
    "for firework in fireworks:\n",
    "    if \"FW\" in str(firework):\n",
    "        print(firework)"
   ]
  },
  {
   "cell_type": "markdown",
   "metadata": {},
   "source": [
    "Lets chose a fireworks class...how about Raman?"
   ]
  },
  {
   "cell_type": "code",
   "execution_count": 249,
   "metadata": {},
   "outputs": [],
   "source": [
    "from atomate.vasp.fireworks.core import RamanFW"
   ]
  },
  {
   "cell_type": "code",
   "execution_count": 341,
   "metadata": {},
   "outputs": [],
   "source": [
    "rwf = raman.get_wf_raman_spectra(znte)"
   ]
  },
  {
   "cell_type": "markdown",
   "metadata": {},
   "source": [
    "Lets look at the tasks associated with this firework!"
   ]
  },
  {
   "cell_type": "code",
   "execution_count": 290,
   "metadata": {},
   "outputs": [
    {
     "name": "stdout",
     "output_type": "stream",
     "text": [
      "ZnTe-structure optimization\n",
      "<class 'atomate.vasp.firetasks.write_inputs.WriteVaspFromIOSet'>\n",
      "<class 'atomate.vasp.firetasks.run_calc.RunVaspCustodian'>\n",
      "<class 'atomate.common.firetasks.glue_tasks.PassCalcLocs'>\n",
      "<class 'atomate.vasp.firetasks.parse_outputs.VaspToDb'>\n",
      "\n",
      "ZnTe-static dielectric\n",
      "<class 'atomate.vasp.firetasks.glue_tasks.CopyVaspOutputs'>\n",
      "<class 'atomate.vasp.firetasks.write_inputs.WriteVaspStaticFromPrev'>\n",
      "<class 'atomate.vasp.firetasks.run_calc.RunVaspCustodian'>\n",
      "<class 'atomate.common.firetasks.glue_tasks.PassResult'>\n",
      "<class 'atomate.common.firetasks.glue_tasks.PassCalcLocs'>\n",
      "<class 'atomate.vasp.firetasks.parse_outputs.VaspToDb'>\n",
      "\n",
      "ZnTe-raman_0_-0.005\n",
      "<class 'atomate.vasp.firetasks.glue_tasks.CopyVaspOutputs'>\n",
      "<class 'atomate.vasp.firetasks.write_inputs.WriteVaspStaticFromPrev'>\n",
      "<class 'atomate.vasp.firetasks.write_inputs.WriteNormalmodeDisplacedPoscar'>\n",
      "<class 'atomate.vasp.firetasks.run_calc.RunVaspCustodian'>\n",
      "<class 'atomate.common.firetasks.glue_tasks.PassResult'>\n",
      "<class 'atomate.common.firetasks.glue_tasks.PassCalcLocs'>\n",
      "<class 'atomate.vasp.firetasks.parse_outputs.VaspToDb'>\n",
      "\n",
      "ZnTe-raman_0_0.005\n",
      "<class 'atomate.vasp.firetasks.glue_tasks.CopyVaspOutputs'>\n",
      "<class 'atomate.vasp.firetasks.write_inputs.WriteVaspStaticFromPrev'>\n",
      "<class 'atomate.vasp.firetasks.write_inputs.WriteNormalmodeDisplacedPoscar'>\n",
      "<class 'atomate.vasp.firetasks.run_calc.RunVaspCustodian'>\n",
      "<class 'atomate.common.firetasks.glue_tasks.PassResult'>\n",
      "<class 'atomate.common.firetasks.glue_tasks.PassCalcLocs'>\n",
      "<class 'atomate.vasp.firetasks.parse_outputs.VaspToDb'>\n",
      "\n",
      "ZnTe-raman_1_-0.005\n",
      "<class 'atomate.vasp.firetasks.glue_tasks.CopyVaspOutputs'>\n",
      "<class 'atomate.vasp.firetasks.write_inputs.WriteVaspStaticFromPrev'>\n",
      "<class 'atomate.vasp.firetasks.write_inputs.WriteNormalmodeDisplacedPoscar'>\n",
      "<class 'atomate.vasp.firetasks.run_calc.RunVaspCustodian'>\n",
      "<class 'atomate.common.firetasks.glue_tasks.PassResult'>\n",
      "<class 'atomate.common.firetasks.glue_tasks.PassCalcLocs'>\n",
      "<class 'atomate.vasp.firetasks.parse_outputs.VaspToDb'>\n",
      "\n",
      "ZnTe-raman_1_0.005\n",
      "<class 'atomate.vasp.firetasks.glue_tasks.CopyVaspOutputs'>\n",
      "<class 'atomate.vasp.firetasks.write_inputs.WriteVaspStaticFromPrev'>\n",
      "<class 'atomate.vasp.firetasks.write_inputs.WriteNormalmodeDisplacedPoscar'>\n",
      "<class 'atomate.vasp.firetasks.run_calc.RunVaspCustodian'>\n",
      "<class 'atomate.common.firetasks.glue_tasks.PassResult'>\n",
      "<class 'atomate.common.firetasks.glue_tasks.PassCalcLocs'>\n",
      "<class 'atomate.vasp.firetasks.parse_outputs.VaspToDb'>\n",
      "\n",
      "ZnTe-raman_2_-0.005\n",
      "<class 'atomate.vasp.firetasks.glue_tasks.CopyVaspOutputs'>\n",
      "<class 'atomate.vasp.firetasks.write_inputs.WriteVaspStaticFromPrev'>\n",
      "<class 'atomate.vasp.firetasks.write_inputs.WriteNormalmodeDisplacedPoscar'>\n",
      "<class 'atomate.vasp.firetasks.run_calc.RunVaspCustodian'>\n",
      "<class 'atomate.common.firetasks.glue_tasks.PassResult'>\n",
      "<class 'atomate.common.firetasks.glue_tasks.PassCalcLocs'>\n",
      "<class 'atomate.vasp.firetasks.parse_outputs.VaspToDb'>\n",
      "\n",
      "ZnTe-raman_2_0.005\n",
      "<class 'atomate.vasp.firetasks.glue_tasks.CopyVaspOutputs'>\n",
      "<class 'atomate.vasp.firetasks.write_inputs.WriteVaspStaticFromPrev'>\n",
      "<class 'atomate.vasp.firetasks.write_inputs.WriteNormalmodeDisplacedPoscar'>\n",
      "<class 'atomate.vasp.firetasks.run_calc.RunVaspCustodian'>\n",
      "<class 'atomate.common.firetasks.glue_tasks.PassResult'>\n",
      "<class 'atomate.common.firetasks.glue_tasks.PassCalcLocs'>\n",
      "<class 'atomate.vasp.firetasks.parse_outputs.VaspToDb'>\n",
      "\n",
      "ZnTe-raman_3_-0.005\n",
      "<class 'atomate.vasp.firetasks.glue_tasks.CopyVaspOutputs'>\n",
      "<class 'atomate.vasp.firetasks.write_inputs.WriteVaspStaticFromPrev'>\n",
      "<class 'atomate.vasp.firetasks.write_inputs.WriteNormalmodeDisplacedPoscar'>\n",
      "<class 'atomate.vasp.firetasks.run_calc.RunVaspCustodian'>\n",
      "<class 'atomate.common.firetasks.glue_tasks.PassResult'>\n",
      "<class 'atomate.common.firetasks.glue_tasks.PassCalcLocs'>\n",
      "<class 'atomate.vasp.firetasks.parse_outputs.VaspToDb'>\n",
      "\n",
      "ZnTe-raman_3_0.005\n",
      "<class 'atomate.vasp.firetasks.glue_tasks.CopyVaspOutputs'>\n",
      "<class 'atomate.vasp.firetasks.write_inputs.WriteVaspStaticFromPrev'>\n",
      "<class 'atomate.vasp.firetasks.write_inputs.WriteNormalmodeDisplacedPoscar'>\n",
      "<class 'atomate.vasp.firetasks.run_calc.RunVaspCustodian'>\n",
      "<class 'atomate.common.firetasks.glue_tasks.PassResult'>\n",
      "<class 'atomate.common.firetasks.glue_tasks.PassCalcLocs'>\n",
      "<class 'atomate.vasp.firetasks.parse_outputs.VaspToDb'>\n",
      "\n",
      "ZnTe-raman_4_-0.005\n",
      "<class 'atomate.vasp.firetasks.glue_tasks.CopyVaspOutputs'>\n",
      "<class 'atomate.vasp.firetasks.write_inputs.WriteVaspStaticFromPrev'>\n",
      "<class 'atomate.vasp.firetasks.write_inputs.WriteNormalmodeDisplacedPoscar'>\n",
      "<class 'atomate.vasp.firetasks.run_calc.RunVaspCustodian'>\n",
      "<class 'atomate.common.firetasks.glue_tasks.PassResult'>\n",
      "<class 'atomate.common.firetasks.glue_tasks.PassCalcLocs'>\n",
      "<class 'atomate.vasp.firetasks.parse_outputs.VaspToDb'>\n",
      "\n",
      "ZnTe-raman_4_0.005\n",
      "<class 'atomate.vasp.firetasks.glue_tasks.CopyVaspOutputs'>\n",
      "<class 'atomate.vasp.firetasks.write_inputs.WriteVaspStaticFromPrev'>\n",
      "<class 'atomate.vasp.firetasks.write_inputs.WriteNormalmodeDisplacedPoscar'>\n",
      "<class 'atomate.vasp.firetasks.run_calc.RunVaspCustodian'>\n",
      "<class 'atomate.common.firetasks.glue_tasks.PassResult'>\n",
      "<class 'atomate.common.firetasks.glue_tasks.PassCalcLocs'>\n",
      "<class 'atomate.vasp.firetasks.parse_outputs.VaspToDb'>\n",
      "\n",
      "ZnTe-raman_5_-0.005\n",
      "<class 'atomate.vasp.firetasks.glue_tasks.CopyVaspOutputs'>\n",
      "<class 'atomate.vasp.firetasks.write_inputs.WriteVaspStaticFromPrev'>\n",
      "<class 'atomate.vasp.firetasks.write_inputs.WriteNormalmodeDisplacedPoscar'>\n",
      "<class 'atomate.vasp.firetasks.run_calc.RunVaspCustodian'>\n",
      "<class 'atomate.common.firetasks.glue_tasks.PassResult'>\n",
      "<class 'atomate.common.firetasks.glue_tasks.PassCalcLocs'>\n",
      "<class 'atomate.vasp.firetasks.parse_outputs.VaspToDb'>\n",
      "\n",
      "ZnTe-raman_5_0.005\n",
      "<class 'atomate.vasp.firetasks.glue_tasks.CopyVaspOutputs'>\n",
      "<class 'atomate.vasp.firetasks.write_inputs.WriteVaspStaticFromPrev'>\n",
      "<class 'atomate.vasp.firetasks.write_inputs.WriteNormalmodeDisplacedPoscar'>\n",
      "<class 'atomate.vasp.firetasks.run_calc.RunVaspCustodian'>\n",
      "<class 'atomate.common.firetasks.glue_tasks.PassResult'>\n",
      "<class 'atomate.common.firetasks.glue_tasks.PassCalcLocs'>\n",
      "<class 'atomate.vasp.firetasks.parse_outputs.VaspToDb'>\n",
      "\n",
      "ZnTe-raman_6_-0.005\n",
      "<class 'atomate.vasp.firetasks.glue_tasks.CopyVaspOutputs'>\n",
      "<class 'atomate.vasp.firetasks.write_inputs.WriteVaspStaticFromPrev'>\n",
      "<class 'atomate.vasp.firetasks.write_inputs.WriteNormalmodeDisplacedPoscar'>\n",
      "<class 'atomate.vasp.firetasks.run_calc.RunVaspCustodian'>\n",
      "<class 'atomate.common.firetasks.glue_tasks.PassResult'>\n",
      "<class 'atomate.common.firetasks.glue_tasks.PassCalcLocs'>\n",
      "<class 'atomate.vasp.firetasks.parse_outputs.VaspToDb'>\n",
      "\n",
      "ZnTe-raman_6_0.005\n",
      "<class 'atomate.vasp.firetasks.glue_tasks.CopyVaspOutputs'>\n",
      "<class 'atomate.vasp.firetasks.write_inputs.WriteVaspStaticFromPrev'>\n",
      "<class 'atomate.vasp.firetasks.write_inputs.WriteNormalmodeDisplacedPoscar'>\n",
      "<class 'atomate.vasp.firetasks.run_calc.RunVaspCustodian'>\n",
      "<class 'atomate.common.firetasks.glue_tasks.PassResult'>\n",
      "<class 'atomate.common.firetasks.glue_tasks.PassCalcLocs'>\n",
      "<class 'atomate.vasp.firetasks.parse_outputs.VaspToDb'>\n",
      "\n",
      "ZnTe-raman_7_-0.005\n",
      "<class 'atomate.vasp.firetasks.glue_tasks.CopyVaspOutputs'>\n",
      "<class 'atomate.vasp.firetasks.write_inputs.WriteVaspStaticFromPrev'>\n",
      "<class 'atomate.vasp.firetasks.write_inputs.WriteNormalmodeDisplacedPoscar'>\n",
      "<class 'atomate.vasp.firetasks.run_calc.RunVaspCustodian'>\n",
      "<class 'atomate.common.firetasks.glue_tasks.PassResult'>\n",
      "<class 'atomate.common.firetasks.glue_tasks.PassCalcLocs'>\n",
      "<class 'atomate.vasp.firetasks.parse_outputs.VaspToDb'>\n",
      "\n",
      "ZnTe-raman_7_0.005\n",
      "<class 'atomate.vasp.firetasks.glue_tasks.CopyVaspOutputs'>\n",
      "<class 'atomate.vasp.firetasks.write_inputs.WriteVaspStaticFromPrev'>\n",
      "<class 'atomate.vasp.firetasks.write_inputs.WriteNormalmodeDisplacedPoscar'>\n",
      "<class 'atomate.vasp.firetasks.run_calc.RunVaspCustodian'>\n",
      "<class 'atomate.common.firetasks.glue_tasks.PassResult'>\n",
      "<class 'atomate.common.firetasks.glue_tasks.PassCalcLocs'>\n",
      "<class 'atomate.vasp.firetasks.parse_outputs.VaspToDb'>\n",
      "\n",
      "ZnTe-raman_8_-0.005\n",
      "<class 'atomate.vasp.firetasks.glue_tasks.CopyVaspOutputs'>\n",
      "<class 'atomate.vasp.firetasks.write_inputs.WriteVaspStaticFromPrev'>\n",
      "<class 'atomate.vasp.firetasks.write_inputs.WriteNormalmodeDisplacedPoscar'>\n",
      "<class 'atomate.vasp.firetasks.run_calc.RunVaspCustodian'>\n",
      "<class 'atomate.common.firetasks.glue_tasks.PassResult'>\n",
      "<class 'atomate.common.firetasks.glue_tasks.PassCalcLocs'>\n",
      "<class 'atomate.vasp.firetasks.parse_outputs.VaspToDb'>\n",
      "\n",
      "ZnTe-raman_8_0.005\n",
      "<class 'atomate.vasp.firetasks.glue_tasks.CopyVaspOutputs'>\n",
      "<class 'atomate.vasp.firetasks.write_inputs.WriteVaspStaticFromPrev'>\n",
      "<class 'atomate.vasp.firetasks.write_inputs.WriteNormalmodeDisplacedPoscar'>\n",
      "<class 'atomate.vasp.firetasks.run_calc.RunVaspCustodian'>\n",
      "<class 'atomate.common.firetasks.glue_tasks.PassResult'>\n",
      "<class 'atomate.common.firetasks.glue_tasks.PassCalcLocs'>\n",
      "<class 'atomate.vasp.firetasks.parse_outputs.VaspToDb'>\n",
      "\n",
      "ZnTe-raman_9_-0.005\n",
      "<class 'atomate.vasp.firetasks.glue_tasks.CopyVaspOutputs'>\n",
      "<class 'atomate.vasp.firetasks.write_inputs.WriteVaspStaticFromPrev'>\n",
      "<class 'atomate.vasp.firetasks.write_inputs.WriteNormalmodeDisplacedPoscar'>\n",
      "<class 'atomate.vasp.firetasks.run_calc.RunVaspCustodian'>\n",
      "<class 'atomate.common.firetasks.glue_tasks.PassResult'>\n",
      "<class 'atomate.common.firetasks.glue_tasks.PassCalcLocs'>\n",
      "<class 'atomate.vasp.firetasks.parse_outputs.VaspToDb'>\n",
      "\n",
      "ZnTe-raman_9_0.005\n",
      "<class 'atomate.vasp.firetasks.glue_tasks.CopyVaspOutputs'>\n",
      "<class 'atomate.vasp.firetasks.write_inputs.WriteVaspStaticFromPrev'>\n",
      "<class 'atomate.vasp.firetasks.write_inputs.WriteNormalmodeDisplacedPoscar'>\n",
      "<class 'atomate.vasp.firetasks.run_calc.RunVaspCustodian'>\n",
      "<class 'atomate.common.firetasks.glue_tasks.PassResult'>\n",
      "<class 'atomate.common.firetasks.glue_tasks.PassCalcLocs'>\n",
      "<class 'atomate.vasp.firetasks.parse_outputs.VaspToDb'>\n",
      "\n",
      "ZnTe-raman_10_-0.005\n",
      "<class 'atomate.vasp.firetasks.glue_tasks.CopyVaspOutputs'>\n",
      "<class 'atomate.vasp.firetasks.write_inputs.WriteVaspStaticFromPrev'>\n",
      "<class 'atomate.vasp.firetasks.write_inputs.WriteNormalmodeDisplacedPoscar'>\n",
      "<class 'atomate.vasp.firetasks.run_calc.RunVaspCustodian'>\n",
      "<class 'atomate.common.firetasks.glue_tasks.PassResult'>\n",
      "<class 'atomate.common.firetasks.glue_tasks.PassCalcLocs'>\n",
      "<class 'atomate.vasp.firetasks.parse_outputs.VaspToDb'>\n",
      "\n",
      "ZnTe-raman_10_0.005\n",
      "<class 'atomate.vasp.firetasks.glue_tasks.CopyVaspOutputs'>\n",
      "<class 'atomate.vasp.firetasks.write_inputs.WriteVaspStaticFromPrev'>\n",
      "<class 'atomate.vasp.firetasks.write_inputs.WriteNormalmodeDisplacedPoscar'>\n",
      "<class 'atomate.vasp.firetasks.run_calc.RunVaspCustodian'>\n",
      "<class 'atomate.common.firetasks.glue_tasks.PassResult'>\n",
      "<class 'atomate.common.firetasks.glue_tasks.PassCalcLocs'>\n",
      "<class 'atomate.vasp.firetasks.parse_outputs.VaspToDb'>\n",
      "\n",
      "ZnTe-raman_11_-0.005\n",
      "<class 'atomate.vasp.firetasks.glue_tasks.CopyVaspOutputs'>\n",
      "<class 'atomate.vasp.firetasks.write_inputs.WriteVaspStaticFromPrev'>\n",
      "<class 'atomate.vasp.firetasks.write_inputs.WriteNormalmodeDisplacedPoscar'>\n",
      "<class 'atomate.vasp.firetasks.run_calc.RunVaspCustodian'>\n",
      "<class 'atomate.common.firetasks.glue_tasks.PassResult'>\n",
      "<class 'atomate.common.firetasks.glue_tasks.PassCalcLocs'>\n",
      "<class 'atomate.vasp.firetasks.parse_outputs.VaspToDb'>\n",
      "\n",
      "ZnTe-raman_11_0.005\n",
      "<class 'atomate.vasp.firetasks.glue_tasks.CopyVaspOutputs'>\n",
      "<class 'atomate.vasp.firetasks.write_inputs.WriteVaspStaticFromPrev'>\n",
      "<class 'atomate.vasp.firetasks.write_inputs.WriteNormalmodeDisplacedPoscar'>\n",
      "<class 'atomate.vasp.firetasks.run_calc.RunVaspCustodian'>\n",
      "<class 'atomate.common.firetasks.glue_tasks.PassResult'>\n",
      "<class 'atomate.common.firetasks.glue_tasks.PassCalcLocs'>\n",
      "<class 'atomate.vasp.firetasks.parse_outputs.VaspToDb'>\n",
      "\n",
      "ZnTe-raman_12_-0.005\n",
      "<class 'atomate.vasp.firetasks.glue_tasks.CopyVaspOutputs'>\n",
      "<class 'atomate.vasp.firetasks.write_inputs.WriteVaspStaticFromPrev'>\n",
      "<class 'atomate.vasp.firetasks.write_inputs.WriteNormalmodeDisplacedPoscar'>\n",
      "<class 'atomate.vasp.firetasks.run_calc.RunVaspCustodian'>\n",
      "<class 'atomate.common.firetasks.glue_tasks.PassResult'>\n",
      "<class 'atomate.common.firetasks.glue_tasks.PassCalcLocs'>\n",
      "<class 'atomate.vasp.firetasks.parse_outputs.VaspToDb'>\n",
      "\n",
      "ZnTe-raman_12_0.005\n",
      "<class 'atomate.vasp.firetasks.glue_tasks.CopyVaspOutputs'>\n",
      "<class 'atomate.vasp.firetasks.write_inputs.WriteVaspStaticFromPrev'>\n",
      "<class 'atomate.vasp.firetasks.write_inputs.WriteNormalmodeDisplacedPoscar'>\n",
      "<class 'atomate.vasp.firetasks.run_calc.RunVaspCustodian'>\n",
      "<class 'atomate.common.firetasks.glue_tasks.PassResult'>\n",
      "<class 'atomate.common.firetasks.glue_tasks.PassCalcLocs'>\n",
      "<class 'atomate.vasp.firetasks.parse_outputs.VaspToDb'>\n",
      "\n",
      "ZnTe-raman_13_-0.005\n",
      "<class 'atomate.vasp.firetasks.glue_tasks.CopyVaspOutputs'>\n",
      "<class 'atomate.vasp.firetasks.write_inputs.WriteVaspStaticFromPrev'>\n",
      "<class 'atomate.vasp.firetasks.write_inputs.WriteNormalmodeDisplacedPoscar'>\n",
      "<class 'atomate.vasp.firetasks.run_calc.RunVaspCustodian'>\n",
      "<class 'atomate.common.firetasks.glue_tasks.PassResult'>\n",
      "<class 'atomate.common.firetasks.glue_tasks.PassCalcLocs'>\n",
      "<class 'atomate.vasp.firetasks.parse_outputs.VaspToDb'>\n",
      "\n",
      "ZnTe-raman_13_0.005\n",
      "<class 'atomate.vasp.firetasks.glue_tasks.CopyVaspOutputs'>\n",
      "<class 'atomate.vasp.firetasks.write_inputs.WriteVaspStaticFromPrev'>\n",
      "<class 'atomate.vasp.firetasks.write_inputs.WriteNormalmodeDisplacedPoscar'>\n",
      "<class 'atomate.vasp.firetasks.run_calc.RunVaspCustodian'>\n",
      "<class 'atomate.common.firetasks.glue_tasks.PassResult'>\n",
      "<class 'atomate.common.firetasks.glue_tasks.PassCalcLocs'>\n",
      "<class 'atomate.vasp.firetasks.parse_outputs.VaspToDb'>\n",
      "\n",
      "ZnTe-raman_14_-0.005\n",
      "<class 'atomate.vasp.firetasks.glue_tasks.CopyVaspOutputs'>\n",
      "<class 'atomate.vasp.firetasks.write_inputs.WriteVaspStaticFromPrev'>\n",
      "<class 'atomate.vasp.firetasks.write_inputs.WriteNormalmodeDisplacedPoscar'>\n",
      "<class 'atomate.vasp.firetasks.run_calc.RunVaspCustodian'>\n",
      "<class 'atomate.common.firetasks.glue_tasks.PassResult'>\n",
      "<class 'atomate.common.firetasks.glue_tasks.PassCalcLocs'>\n",
      "<class 'atomate.vasp.firetasks.parse_outputs.VaspToDb'>\n",
      "\n",
      "ZnTe-raman_14_0.005\n",
      "<class 'atomate.vasp.firetasks.glue_tasks.CopyVaspOutputs'>\n",
      "<class 'atomate.vasp.firetasks.write_inputs.WriteVaspStaticFromPrev'>\n",
      "<class 'atomate.vasp.firetasks.write_inputs.WriteNormalmodeDisplacedPoscar'>\n",
      "<class 'atomate.vasp.firetasks.run_calc.RunVaspCustodian'>\n",
      "<class 'atomate.common.firetasks.glue_tasks.PassResult'>\n",
      "<class 'atomate.common.firetasks.glue_tasks.PassCalcLocs'>\n",
      "<class 'atomate.vasp.firetasks.parse_outputs.VaspToDb'>\n",
      "\n",
      "ZnTe-raman_15_-0.005\n",
      "<class 'atomate.vasp.firetasks.glue_tasks.CopyVaspOutputs'>\n",
      "<class 'atomate.vasp.firetasks.write_inputs.WriteVaspStaticFromPrev'>\n",
      "<class 'atomate.vasp.firetasks.write_inputs.WriteNormalmodeDisplacedPoscar'>\n",
      "<class 'atomate.vasp.firetasks.run_calc.RunVaspCustodian'>\n",
      "<class 'atomate.common.firetasks.glue_tasks.PassResult'>\n",
      "<class 'atomate.common.firetasks.glue_tasks.PassCalcLocs'>\n",
      "<class 'atomate.vasp.firetasks.parse_outputs.VaspToDb'>\n",
      "\n",
      "ZnTe-raman_15_0.005\n",
      "<class 'atomate.vasp.firetasks.glue_tasks.CopyVaspOutputs'>\n",
      "<class 'atomate.vasp.firetasks.write_inputs.WriteVaspStaticFromPrev'>\n",
      "<class 'atomate.vasp.firetasks.write_inputs.WriteNormalmodeDisplacedPoscar'>\n",
      "<class 'atomate.vasp.firetasks.run_calc.RunVaspCustodian'>\n",
      "<class 'atomate.common.firetasks.glue_tasks.PassResult'>\n",
      "<class 'atomate.common.firetasks.glue_tasks.PassCalcLocs'>\n",
      "<class 'atomate.vasp.firetasks.parse_outputs.VaspToDb'>\n",
      "\n",
      "ZnTe-raman_16_-0.005\n",
      "<class 'atomate.vasp.firetasks.glue_tasks.CopyVaspOutputs'>\n",
      "<class 'atomate.vasp.firetasks.write_inputs.WriteVaspStaticFromPrev'>\n",
      "<class 'atomate.vasp.firetasks.write_inputs.WriteNormalmodeDisplacedPoscar'>\n",
      "<class 'atomate.vasp.firetasks.run_calc.RunVaspCustodian'>\n",
      "<class 'atomate.common.firetasks.glue_tasks.PassResult'>\n",
      "<class 'atomate.common.firetasks.glue_tasks.PassCalcLocs'>\n",
      "<class 'atomate.vasp.firetasks.parse_outputs.VaspToDb'>\n",
      "\n",
      "ZnTe-raman_16_0.005\n",
      "<class 'atomate.vasp.firetasks.glue_tasks.CopyVaspOutputs'>\n",
      "<class 'atomate.vasp.firetasks.write_inputs.WriteVaspStaticFromPrev'>\n",
      "<class 'atomate.vasp.firetasks.write_inputs.WriteNormalmodeDisplacedPoscar'>\n",
      "<class 'atomate.vasp.firetasks.run_calc.RunVaspCustodian'>\n",
      "<class 'atomate.common.firetasks.glue_tasks.PassResult'>\n",
      "<class 'atomate.common.firetasks.glue_tasks.PassCalcLocs'>\n",
      "<class 'atomate.vasp.firetasks.parse_outputs.VaspToDb'>\n",
      "\n",
      "ZnTe-raman_17_-0.005\n",
      "<class 'atomate.vasp.firetasks.glue_tasks.CopyVaspOutputs'>\n",
      "<class 'atomate.vasp.firetasks.write_inputs.WriteVaspStaticFromPrev'>\n",
      "<class 'atomate.vasp.firetasks.write_inputs.WriteNormalmodeDisplacedPoscar'>\n",
      "<class 'atomate.vasp.firetasks.run_calc.RunVaspCustodian'>\n",
      "<class 'atomate.common.firetasks.glue_tasks.PassResult'>\n",
      "<class 'atomate.common.firetasks.glue_tasks.PassCalcLocs'>\n",
      "<class 'atomate.vasp.firetasks.parse_outputs.VaspToDb'>\n",
      "\n",
      "ZnTe-raman_17_0.005\n",
      "<class 'atomate.vasp.firetasks.glue_tasks.CopyVaspOutputs'>\n",
      "<class 'atomate.vasp.firetasks.write_inputs.WriteVaspStaticFromPrev'>\n",
      "<class 'atomate.vasp.firetasks.write_inputs.WriteNormalmodeDisplacedPoscar'>\n",
      "<class 'atomate.vasp.firetasks.run_calc.RunVaspCustodian'>\n",
      "<class 'atomate.common.firetasks.glue_tasks.PassResult'>\n",
      "<class 'atomate.common.firetasks.glue_tasks.PassCalcLocs'>\n",
      "<class 'atomate.vasp.firetasks.parse_outputs.VaspToDb'>\n",
      "\n",
      "ZnTe-raman_18_-0.005\n",
      "<class 'atomate.vasp.firetasks.glue_tasks.CopyVaspOutputs'>\n",
      "<class 'atomate.vasp.firetasks.write_inputs.WriteVaspStaticFromPrev'>\n",
      "<class 'atomate.vasp.firetasks.write_inputs.WriteNormalmodeDisplacedPoscar'>\n",
      "<class 'atomate.vasp.firetasks.run_calc.RunVaspCustodian'>\n",
      "<class 'atomate.common.firetasks.glue_tasks.PassResult'>\n",
      "<class 'atomate.common.firetasks.glue_tasks.PassCalcLocs'>\n",
      "<class 'atomate.vasp.firetasks.parse_outputs.VaspToDb'>\n",
      "\n",
      "ZnTe-raman_18_0.005\n",
      "<class 'atomate.vasp.firetasks.glue_tasks.CopyVaspOutputs'>\n",
      "<class 'atomate.vasp.firetasks.write_inputs.WriteVaspStaticFromPrev'>\n",
      "<class 'atomate.vasp.firetasks.write_inputs.WriteNormalmodeDisplacedPoscar'>\n",
      "<class 'atomate.vasp.firetasks.run_calc.RunVaspCustodian'>\n",
      "<class 'atomate.common.firetasks.glue_tasks.PassResult'>\n",
      "<class 'atomate.common.firetasks.glue_tasks.PassCalcLocs'>\n",
      "<class 'atomate.vasp.firetasks.parse_outputs.VaspToDb'>\n",
      "\n",
      "ZnTe-raman_19_-0.005\n",
      "<class 'atomate.vasp.firetasks.glue_tasks.CopyVaspOutputs'>\n",
      "<class 'atomate.vasp.firetasks.write_inputs.WriteVaspStaticFromPrev'>\n",
      "<class 'atomate.vasp.firetasks.write_inputs.WriteNormalmodeDisplacedPoscar'>\n",
      "<class 'atomate.vasp.firetasks.run_calc.RunVaspCustodian'>\n",
      "<class 'atomate.common.firetasks.glue_tasks.PassResult'>\n",
      "<class 'atomate.common.firetasks.glue_tasks.PassCalcLocs'>\n",
      "<class 'atomate.vasp.firetasks.parse_outputs.VaspToDb'>\n",
      "\n",
      "ZnTe-raman_19_0.005\n",
      "<class 'atomate.vasp.firetasks.glue_tasks.CopyVaspOutputs'>\n",
      "<class 'atomate.vasp.firetasks.write_inputs.WriteVaspStaticFromPrev'>\n",
      "<class 'atomate.vasp.firetasks.write_inputs.WriteNormalmodeDisplacedPoscar'>\n",
      "<class 'atomate.vasp.firetasks.run_calc.RunVaspCustodian'>\n",
      "<class 'atomate.common.firetasks.glue_tasks.PassResult'>\n",
      "<class 'atomate.common.firetasks.glue_tasks.PassCalcLocs'>\n",
      "<class 'atomate.vasp.firetasks.parse_outputs.VaspToDb'>\n",
      "\n",
      "ZnTe-raman_20_-0.005\n",
      "<class 'atomate.vasp.firetasks.glue_tasks.CopyVaspOutputs'>\n",
      "<class 'atomate.vasp.firetasks.write_inputs.WriteVaspStaticFromPrev'>\n",
      "<class 'atomate.vasp.firetasks.write_inputs.WriteNormalmodeDisplacedPoscar'>\n",
      "<class 'atomate.vasp.firetasks.run_calc.RunVaspCustodian'>\n",
      "<class 'atomate.common.firetasks.glue_tasks.PassResult'>\n",
      "<class 'atomate.common.firetasks.glue_tasks.PassCalcLocs'>\n",
      "<class 'atomate.vasp.firetasks.parse_outputs.VaspToDb'>\n",
      "\n",
      "ZnTe-raman_20_0.005\n",
      "<class 'atomate.vasp.firetasks.glue_tasks.CopyVaspOutputs'>\n",
      "<class 'atomate.vasp.firetasks.write_inputs.WriteVaspStaticFromPrev'>\n",
      "<class 'atomate.vasp.firetasks.write_inputs.WriteNormalmodeDisplacedPoscar'>\n",
      "<class 'atomate.vasp.firetasks.run_calc.RunVaspCustodian'>\n",
      "<class 'atomate.common.firetasks.glue_tasks.PassResult'>\n",
      "<class 'atomate.common.firetasks.glue_tasks.PassCalcLocs'>\n",
      "<class 'atomate.vasp.firetasks.parse_outputs.VaspToDb'>\n",
      "\n",
      "ZnTe-raman_21_-0.005\n",
      "<class 'atomate.vasp.firetasks.glue_tasks.CopyVaspOutputs'>\n",
      "<class 'atomate.vasp.firetasks.write_inputs.WriteVaspStaticFromPrev'>\n",
      "<class 'atomate.vasp.firetasks.write_inputs.WriteNormalmodeDisplacedPoscar'>\n",
      "<class 'atomate.vasp.firetasks.run_calc.RunVaspCustodian'>\n",
      "<class 'atomate.common.firetasks.glue_tasks.PassResult'>\n",
      "<class 'atomate.common.firetasks.glue_tasks.PassCalcLocs'>\n",
      "<class 'atomate.vasp.firetasks.parse_outputs.VaspToDb'>\n",
      "\n",
      "ZnTe-raman_21_0.005\n",
      "<class 'atomate.vasp.firetasks.glue_tasks.CopyVaspOutputs'>\n",
      "<class 'atomate.vasp.firetasks.write_inputs.WriteVaspStaticFromPrev'>\n",
      "<class 'atomate.vasp.firetasks.write_inputs.WriteNormalmodeDisplacedPoscar'>\n",
      "<class 'atomate.vasp.firetasks.run_calc.RunVaspCustodian'>\n",
      "<class 'atomate.common.firetasks.glue_tasks.PassResult'>\n",
      "<class 'atomate.common.firetasks.glue_tasks.PassCalcLocs'>\n",
      "<class 'atomate.vasp.firetasks.parse_outputs.VaspToDb'>\n",
      "\n",
      "ZnTe-raman_22_-0.005\n",
      "<class 'atomate.vasp.firetasks.glue_tasks.CopyVaspOutputs'>\n",
      "<class 'atomate.vasp.firetasks.write_inputs.WriteVaspStaticFromPrev'>\n",
      "<class 'atomate.vasp.firetasks.write_inputs.WriteNormalmodeDisplacedPoscar'>\n",
      "<class 'atomate.vasp.firetasks.run_calc.RunVaspCustodian'>\n",
      "<class 'atomate.common.firetasks.glue_tasks.PassResult'>\n",
      "<class 'atomate.common.firetasks.glue_tasks.PassCalcLocs'>\n",
      "<class 'atomate.vasp.firetasks.parse_outputs.VaspToDb'>\n",
      "\n",
      "ZnTe-raman_22_0.005\n",
      "<class 'atomate.vasp.firetasks.glue_tasks.CopyVaspOutputs'>\n",
      "<class 'atomate.vasp.firetasks.write_inputs.WriteVaspStaticFromPrev'>\n",
      "<class 'atomate.vasp.firetasks.write_inputs.WriteNormalmodeDisplacedPoscar'>\n",
      "<class 'atomate.vasp.firetasks.run_calc.RunVaspCustodian'>\n",
      "<class 'atomate.common.firetasks.glue_tasks.PassResult'>\n",
      "<class 'atomate.common.firetasks.glue_tasks.PassCalcLocs'>\n",
      "<class 'atomate.vasp.firetasks.parse_outputs.VaspToDb'>\n",
      "\n",
      "ZnTe-raman_23_-0.005\n",
      "<class 'atomate.vasp.firetasks.glue_tasks.CopyVaspOutputs'>\n",
      "<class 'atomate.vasp.firetasks.write_inputs.WriteVaspStaticFromPrev'>\n",
      "<class 'atomate.vasp.firetasks.write_inputs.WriteNormalmodeDisplacedPoscar'>\n",
      "<class 'atomate.vasp.firetasks.run_calc.RunVaspCustodian'>\n",
      "<class 'atomate.common.firetasks.glue_tasks.PassResult'>\n",
      "<class 'atomate.common.firetasks.glue_tasks.PassCalcLocs'>\n",
      "<class 'atomate.vasp.firetasks.parse_outputs.VaspToDb'>\n",
      "\n",
      "ZnTe-raman_23_0.005\n",
      "<class 'atomate.vasp.firetasks.glue_tasks.CopyVaspOutputs'>\n",
      "<class 'atomate.vasp.firetasks.write_inputs.WriteVaspStaticFromPrev'>\n",
      "<class 'atomate.vasp.firetasks.write_inputs.WriteNormalmodeDisplacedPoscar'>\n",
      "<class 'atomate.vasp.firetasks.run_calc.RunVaspCustodian'>\n",
      "<class 'atomate.common.firetasks.glue_tasks.PassResult'>\n",
      "<class 'atomate.common.firetasks.glue_tasks.PassCalcLocs'>\n",
      "<class 'atomate.vasp.firetasks.parse_outputs.VaspToDb'>\n",
      "\n",
      "ZnTe-raman analysis\n",
      "<class 'atomate.vasp.firetasks.parse_outputs.RamanTensorToDb'>\n",
      "\n"
     ]
    }
   ],
   "source": [
    "for firetask in rwf.fws:\n",
    "    print(firetask.name)\n",
    "    for task in firetask.tasks:\n",
    "        print(task.__class__)\n",
    "    print()"
   ]
  },
  {
   "cell_type": "markdown",
   "metadata": {},
   "source": [
    "Knowing that the RamanFW class takes two inputs: the raman mode, and displacement, we can start to see whats happening. The first firetask simply optimizes the structure like previously. The second, takes the optimize structure "
   ]
  },
  {
   "cell_type": "markdown",
   "metadata": {},
   "source": [
    "Looks like the first tasks takes a contcar from a previous calculation and turns it back into a POSCAR. We can skip this step, since we have our POSCAR. A CONTCAR is the result of a structural optimization VASP"
   ]
  },
  {
   "cell_type": "code",
   "execution_count": 293,
   "metadata": {},
   "outputs": [
    {
     "data": {
      "text/plain": [
       "{'_tasks': [{'calc_loc': True,\n",
       "   'contcar_to_poscar': True,\n",
       "   '_fw_name': '{{atomate.vasp.firetasks.glue_tasks.CopyVaspOutputs}}'},\n",
       "  {'lepsilon': True,\n",
       "   'other_params': {'user_incar_settings': {}, 'force_gamma': True},\n",
       "   '_fw_name': '{{atomate.vasp.firetasks.write_inputs.WriteVaspStaticFromPrev}}'},\n",
       "  {'vasp_cmd': 'vasp',\n",
       "   '_fw_name': '{{atomate.vasp.firetasks.run_calc.RunVaspCustodian}}'},\n",
       "  {'pass_dict': {'structure': 'a>>final_structure',\n",
       "    'eigenvals': 'a>>normalmode_eigenvals',\n",
       "    'eigenvecs': 'a>>normalmode_eigenvecs'},\n",
       "   'calc_dir': '.',\n",
       "   'parse_kwargs': {'filename': 'vasprun.xml.gz',\n",
       "    'parse_eigen': True,\n",
       "    'parse_dos': False},\n",
       "   'parse_class': 'pymatgen.io.vasp.outputs.Vasprun',\n",
       "   'mod_spec_key': 'normalmodes',\n",
       "   '_fw_name': '{{atomate.common.firetasks.glue_tasks.PassResult}}'},\n",
       "  {'name': 'static dielectric',\n",
       "   '_fw_name': '{{atomate.common.firetasks.glue_tasks.PassCalcLocs}}'},\n",
       "  {'db_file': None,\n",
       "   'additional_fields': {'task_label': 'static dielectric'},\n",
       "   '_fw_name': '{{atomate.vasp.firetasks.parse_outputs.VaspToDb}}'}]}"
      ]
     },
     "execution_count": 293,
     "metadata": {},
     "output_type": "execute_result"
    }
   ],
   "source": [
    "rwf.fws[1].spec"
   ]
  },
  {
   "cell_type": "code",
   "execution_count": 294,
   "metadata": {},
   "outputs": [],
   "source": [
    "from atomate.vasp.firetasks.write_inputs import WriteVaspStaticFromPrev"
   ]
  },
  {
   "cell_type": "markdown",
   "metadata": {},
   "source": [
    "From exploring the class called in the 2nd task, we can see that it deals with the MPStaticSet class"
   ]
  },
  {
   "cell_type": "code",
   "execution_count": 295,
   "metadata": {},
   "outputs": [],
   "source": [
    "from pymatgen.io.vasp.sets import MPStaticSet"
   ]
  },
  {
   "cell_type": "code",
   "execution_count": 302,
   "metadata": {},
   "outputs": [],
   "source": [
    "#We will load the structure from the optimized CONTCAR\n",
    "mpss = MPStaticSet(Structure.from_file(\"Example01/CONTCAR\"),lepsilon=True)"
   ]
  },
  {
   "cell_type": "code",
   "execution_count": 303,
   "metadata": {},
   "outputs": [
    {
     "data": {
      "text/plain": [
       "{'INCAR': {'ALGO': 'Normal',\n",
       "  'EDIFF': 0.00030000000000000003,\n",
       "  'ENCUT': 520,\n",
       "  'IBRION': 8,\n",
       "  'ICHARG': 0,\n",
       "  'ISIF': 3,\n",
       "  'ISMEAR': -5,\n",
       "  'ISPIN': 2,\n",
       "  'LORBIT': 11,\n",
       "  'LREAL': 'Auto',\n",
       "  'LWAVE': False,\n",
       "  'NELM': 100,\n",
       "  'PREC': 'Accurate',\n",
       "  'SIGMA': 0.05,\n",
       "  'MAGMOM': [0.6, 0.6, 0.6, 0.6, 0.6, 0.6],\n",
       "  'LAECHG': True,\n",
       "  'LCHARG': True,\n",
       "  'LVHAR': True,\n",
       "  'LEPSILON': True,\n",
       "  'LPEAD': True},\n",
       " 'KPOINTS': pymatgen 4.7.6+ generated KPOINTS with grid density = 842 / atom\n",
       " 0\n",
       " Gamma\n",
       " 7 7 2,\n",
       " 'POSCAR': Zn3 Te3\n",
       " 1.0\n",
       " 4.370109 -0.006366 -0.001904\n",
       " -2.190567 3.781672 0.001857\n",
       " -0.004661 0.002558 10.699412\n",
       " Zn Te\n",
       " 3 3\n",
       " direct\n",
       " 0.355137 0.017307 0.026508 Zn\n",
       " 0.661980 0.644873 0.693176 Zn\n",
       " 0.982643 0.338052 0.359851 Zn\n",
       " 0.019124 0.349090 0.110159 Te\n",
       " 0.330191 0.980879 0.776817 Te\n",
       " 0.650924 0.669799 0.443489 Te,\n",
       " 'POTCAR': [<pymatgen.io.vasp.inputs.PotcarSingle at 0x2aaae1578d68>,\n",
       "  <pymatgen.io.vasp.inputs.PotcarSingle at 0x2aaae1578978>]}"
      ]
     },
     "execution_count": 303,
     "metadata": {},
     "output_type": "execute_result"
    }
   ],
   "source": [
    "#We can get the parameters for such a calculation and compare them to a standard optimize calculation\n",
    "mpss.get_vasp_input()\n",
    "#We can see EDIFF is much lower, and the kpoints is much denser"
   ]
  },
  {
   "cell_type": "code",
   "execution_count": 304,
   "metadata": {},
   "outputs": [
    {
     "data": {
      "text/plain": [
       "{'_tasks': [{'calc_loc': True,\n",
       "   'contcar_to_poscar': True,\n",
       "   '_fw_name': '{{atomate.vasp.firetasks.glue_tasks.CopyVaspOutputs}}'},\n",
       "  {'lepsilon': True,\n",
       "   'other_params': {'user_incar_settings': {}},\n",
       "   '_fw_name': '{{atomate.vasp.firetasks.write_inputs.WriteVaspStaticFromPrev}}'},\n",
       "  {'mode': 0,\n",
       "   'displacement': -0.005,\n",
       "   '_fw_name': '{{atomate.vasp.firetasks.write_inputs.WriteNormalmodeDisplacedPoscar}}'},\n",
       "  {'vasp_cmd': 'vasp',\n",
       "   '_fw_name': '{{atomate.vasp.firetasks.run_calc.RunVaspCustodian}}'},\n",
       "  {'pass_dict': {'mode': 0,\n",
       "    'displacement': -0.005,\n",
       "    'epsilon': 'a>>epsilon_static'},\n",
       "   'calc_dir': '.',\n",
       "   'parse_kwargs': {'filename': 'vasprun.xml.gz',\n",
       "    'parse_eigen': True,\n",
       "    'parse_dos': False},\n",
       "   'parse_class': 'pymatgen.io.vasp.outputs.Vasprun',\n",
       "   'mod_spec_key': 'raman_epsilon->0_m0d005',\n",
       "   '_fw_name': '{{atomate.common.firetasks.glue_tasks.PassResult}}'},\n",
       "  {'name': 'raman_0_-0.005',\n",
       "   '_fw_name': '{{atomate.common.firetasks.glue_tasks.PassCalcLocs}}'},\n",
       "  {'db_file': None,\n",
       "   'additional_fields': {'task_label': 'raman_0_-0.005'},\n",
       "   '_fw_name': '{{atomate.vasp.firetasks.parse_outputs.VaspToDb}}'}]}"
      ]
     },
     "execution_count": 304,
     "metadata": {},
     "output_type": "execute_result"
    }
   ],
   "source": [
    "rwf.fws[2].spec"
   ]
  },
  {
   "cell_type": "code",
   "execution_count": 305,
   "metadata": {},
   "outputs": [],
   "source": [
    "#We can see that after the StaticSet, the POSCAR is modified by the function below but with eigenvalues parsed theough to the function\n",
    "from atomate.vasp.firetasks.write_inputs import WriteNormalmodeDisplacedPoscar"
   ]
  },
  {
   "cell_type": "code",
   "execution_count": 307,
   "metadata": {},
   "outputs": [],
   "source": [
    "k = WriteNormalmodeDisplacedPoscar(mode=0,displacement=0.005)"
   ]
  },
  {
   "cell_type": "code",
   "execution_count": 335,
   "metadata": {},
   "outputs": [],
   "source": [
    "#I'm going to create a random value for these just to be able to see whats happening with the task. \n",
    "fw_spec = {\"normalmodes\":{\"eigenvecs\":[[[1,2,3],[2,1,3],[2,1,3]],\n",
    "                                       [[1,2,3],[2,1,3],[2,1,3]],\n",
    "                                       [[1,2,3],[2,1,3],[2,1,3]],\n",
    "                                       [[1,2,3],[2,1,3],[2,1,3]]]}}"
   ]
  },
  {
   "cell_type": "markdown",
   "metadata": {},
   "source": [
    "We can then run this task on a POSCAR to see how it changes..."
   ]
  },
  {
   "cell_type": "code",
   "execution_count": 338,
   "metadata": {},
   "outputs": [],
   "source": [
    "WriteNormalmodeDisplacedPoscar(mode=0,displacement=0.005).run_task(fw_spec)"
   ]
  },
  {
   "cell_type": "markdown",
   "metadata": {},
   "source": [
    "After it looks like vasp is run, and then certain args are passed to the DB..."
   ]
  },
  {
   "cell_type": "markdown",
   "metadata": {},
   "source": [
    "To launch this workflow to a launchpad, just follow the command:"
   ]
  },
  {
   "cell_type": "code",
   "execution_count": 343,
   "metadata": {},
   "outputs": [
    {
     "name": "stdout",
     "output_type": "stream",
     "text": [
      "2019-05-02 16:55:34,972 INFO Added a workflow. id_map: {-211: 66, -210: 67, -209: 68, -208: 69, -207: 70, -206: 71, -205: 72, -204: 73, -203: 74, -202: 75, -201: 76, -200: 77, -199: 78, -198: 79, -197: 80, -196: 81, -195: 82, -194: 83, -193: 84, -192: 85, -191: 86, -190: 87, -189: 88, -188: 89, -187: 90, -186: 91, -185: 92, -184: 93, -183: 94, -182: 95, -181: 96, -180: 97, -179: 98, -178: 99, -177: 100, -176: 101, -175: 102, -174: 103, -173: 104, -172: 105, -171: 106, -170: 107, -169: 108, -168: 109, -167: 110, -166: 111, -165: 112, -164: 113, -163: 114, -162: 115, 65: 116}\n"
     ]
    },
    {
     "data": {
      "text/plain": [
       "{-211: 66,\n",
       " -210: 67,\n",
       " -209: 68,\n",
       " -208: 69,\n",
       " -207: 70,\n",
       " -206: 71,\n",
       " -205: 72,\n",
       " -204: 73,\n",
       " -203: 74,\n",
       " -202: 75,\n",
       " -201: 76,\n",
       " -200: 77,\n",
       " -199: 78,\n",
       " -198: 79,\n",
       " -197: 80,\n",
       " -196: 81,\n",
       " -195: 82,\n",
       " -194: 83,\n",
       " -193: 84,\n",
       " -192: 85,\n",
       " -191: 86,\n",
       " -190: 87,\n",
       " -189: 88,\n",
       " -188: 89,\n",
       " -187: 90,\n",
       " -186: 91,\n",
       " -185: 92,\n",
       " -184: 93,\n",
       " -183: 94,\n",
       " -182: 95,\n",
       " -181: 96,\n",
       " -180: 97,\n",
       " -179: 98,\n",
       " -178: 99,\n",
       " -177: 100,\n",
       " -176: 101,\n",
       " -175: 102,\n",
       " -174: 103,\n",
       " -173: 104,\n",
       " -172: 105,\n",
       " -171: 106,\n",
       " -170: 107,\n",
       " -169: 108,\n",
       " -168: 109,\n",
       " -167: 110,\n",
       " -166: 111,\n",
       " -165: 112,\n",
       " -164: 113,\n",
       " -163: 114,\n",
       " -162: 115,\n",
       " 65: 116}"
      ]
     },
     "execution_count": 343,
     "metadata": {},
     "output_type": "execute_result"
    }
   ],
   "source": [
    "from fireworks import LaunchPad\n",
    "lpad = LaunchPad.auto_load()\n",
    "lpad.add_wf(rwf)"
   ]
  },
  {
   "cell_type": "markdown",
   "metadata": {},
   "source": [
    "### Lets work with PyMatgen more to check out some other features!"
   ]
  },
  {
   "cell_type": "code",
   "execution_count": null,
   "metadata": {},
   "outputs": [],
   "source": []
  }
 ],
 "metadata": {
  "kernelspec": {
   "display_name": "Python [conda env:cms]",
   "language": "python",
   "name": "conda-env-cms-py"
  },
  "language_info": {
   "codemirror_mode": {
    "name": "ipython",
    "version": 3
   },
   "file_extension": ".py",
   "mimetype": "text/x-python",
   "name": "python",
   "nbconvert_exporter": "python",
   "pygments_lexer": "ipython3",
   "version": "3.6.8"
  }
 },
 "nbformat": 4,
 "nbformat_minor": 2
}
