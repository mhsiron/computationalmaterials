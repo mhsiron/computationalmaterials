{
 "cells": [
  {
   "cell_type": "markdown",
   "metadata": {},
   "source": [
    "# Learning PyMatgen, Atomate, Fireworks and VASP: Welcome Guide"
   ]
  },
  {
   "cell_type": "markdown",
   "metadata": {},
   "source": [
    "###### Guide by Martin Siron"
   ]
  },
  {
   "cell_type": "markdown",
   "metadata": {},
   "source": [
    "### Let's make a material: ZnTe"
   ]
  },
  {
   "cell_type": "markdown",
   "metadata": {},
   "source": [
    "Lets start with the import we might need"
   ]
  },
  {
   "cell_type": "code",
   "execution_count": 1,
   "metadata": {},
   "outputs": [],
   "source": [
    "from pymatgen import Structure, MPRester, Lattice, Structure\n",
    "from pymatgen.symmetry.analyzer import SpacegroupAnalyzer"
   ]
  },
  {
   "cell_type": "markdown",
   "metadata": {},
   "source": [
    "We can get a material from the Materials Project Database such as ZnTe:"
   ]
  },
  {
   "cell_type": "code",
   "execution_count": 10,
   "metadata": {},
   "outputs": [],
   "source": [
    "mpr=MPRester()\n",
    "znte_mp = SpacegroupAnalyzer(mpr.get_structure_by_material_id(\"mp-2176\")).get_conventional_standard_structure()"
   ]
  },
  {
   "cell_type": "markdown",
   "metadata": {},
   "source": [
    "We can print out this structure to see what it looks like:"
   ]
  },
  {
   "cell_type": "code",
   "execution_count": 12,
   "metadata": {},
   "outputs": [
    {
     "data": {
      "text/plain": [
       "Structure Summary\n",
       "Lattice\n",
       "    abc : 6.184826420366441 6.184826420366441 6.184826420366441\n",
       " angles : 90.0 90.0 90.0\n",
       " volume : 236.58246172098217\n",
       "      A : 6.184826420366441 0.0 3.787113939491872e-16\n",
       "      B : 9.94595945090975e-16 6.184826420366441 3.787113939491872e-16\n",
       "      C : 0.0 0.0 6.184826420366441\n",
       "PeriodicSite: Zn (0.0000, 0.0000, 0.0000) [0.0000, 0.0000, 0.0000]\n",
       "PeriodicSite: Zn (0.0000, 3.0924, 3.0924) [0.0000, 0.5000, 0.5000]\n",
       "PeriodicSite: Zn (3.0924, 0.0000, 3.0924) [0.5000, 0.0000, 0.5000]\n",
       "PeriodicSite: Zn (3.0924, 3.0924, 0.0000) [0.5000, 0.5000, 0.0000]\n",
       "PeriodicSite: Te (4.6386, 4.6386, 4.6386) [0.7500, 0.7500, 0.7500]\n",
       "PeriodicSite: Te (4.6386, 1.5462, 1.5462) [0.7500, 0.2500, 0.2500]\n",
       "PeriodicSite: Te (1.5462, 4.6386, 1.5462) [0.2500, 0.7500, 0.2500]\n",
       "PeriodicSite: Te (1.5462, 1.5462, 4.6386) [0.2500, 0.2500, 0.7500]"
      ]
     },
     "execution_count": 12,
     "metadata": {},
     "output_type": "execute_result"
    }
   ],
   "source": [
    "znte_mp"
   ]
  },
  {
   "cell_type": "markdown",
   "metadata": {},
   "source": [
    "We can also create the same structure manually"
   ]
  },
  {
   "cell_type": "code",
   "execution_count": 14,
   "metadata": {},
   "outputs": [],
   "source": [
    "znte_lattice = Lattice.cubic(6.184826420366441)\n",
    "species = [\"Zn\", \"Zn\",\"Zn\",\"Zn\",\"Te\",\"Te\",\"Te\",\"Te\"]\n",
    "coordinates = [[0,0,0], [0,0.5,0.5],[0.5,0,0.5],\n",
    "               [0.5,0.5,0],[.75,.75,.75],[.75,.25,.25],\n",
    "               [0.25,0.75,0.25],[0.25,0.25,0.75]]\n",
    "znte = Structure(znte_lattice,species=species,coords=coordinates)"
   ]
  },
  {
   "cell_type": "code",
   "execution_count": 15,
   "metadata": {},
   "outputs": [
    {
     "data": {
      "text/plain": [
       "Structure Summary\n",
       "Lattice\n",
       "    abc : 6.184826420366441 6.184826420366441 6.184826420366441\n",
       " angles : 90.0 90.0 90.0\n",
       " volume : 236.58246172098217\n",
       "      A : 6.184826420366441 0.0 0.0\n",
       "      B : 0.0 6.184826420366441 0.0\n",
       "      C : 0.0 0.0 6.184826420366441\n",
       "PeriodicSite: Zn (0.0000, 0.0000, 0.0000) [0.0000, 0.0000, 0.0000]\n",
       "PeriodicSite: Zn (0.0000, 3.0924, 3.0924) [0.0000, 0.5000, 0.5000]\n",
       "PeriodicSite: Zn (3.0924, 0.0000, 3.0924) [0.5000, 0.0000, 0.5000]\n",
       "PeriodicSite: Zn (3.0924, 3.0924, 0.0000) [0.5000, 0.5000, 0.0000]\n",
       "PeriodicSite: Te (4.6386, 4.6386, 4.6386) [0.7500, 0.7500, 0.7500]\n",
       "PeriodicSite: Te (4.6386, 1.5462, 1.5462) [0.7500, 0.2500, 0.2500]\n",
       "PeriodicSite: Te (1.5462, 4.6386, 1.5462) [0.2500, 0.7500, 0.2500]\n",
       "PeriodicSite: Te (1.5462, 1.5462, 4.6386) [0.2500, 0.2500, 0.7500]"
      ]
     },
     "execution_count": 15,
     "metadata": {},
     "output_type": "execute_result"
    }
   ],
   "source": [
    "znte"
   ]
  },
  {
   "cell_type": "code",
   "execution_count": null,
   "metadata": {},
   "outputs": [],
   "source": []
  }
 ],
 "metadata": {
  "kernelspec": {
   "display_name": "Python [conda env:cms]",
   "language": "python",
   "name": "conda-env-cms-py"
  },
  "language_info": {
   "codemirror_mode": {
    "name": "ipython",
    "version": 3
   },
   "file_extension": ".py",
   "mimetype": "text/x-python",
   "name": "python",
   "nbconvert_exporter": "python",
   "pygments_lexer": "ipython3",
   "version": "3.6.8"
  }
 },
 "nbformat": 4,
 "nbformat_minor": 2
}
